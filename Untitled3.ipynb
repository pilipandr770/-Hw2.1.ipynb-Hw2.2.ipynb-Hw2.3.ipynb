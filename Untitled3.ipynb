{
  "nbformat": 4,
  "nbformat_minor": 0,
  "metadata": {
    "colab": {
      "provenance": [],
      "authorship_tag": "ABX9TyOgx4ytNSrPXrES4iX994z0",
      "include_colab_link": true
    },
    "kernelspec": {
      "name": "python3",
      "display_name": "Python 3"
    },
    "language_info": {
      "name": "python"
    }
  },
  "cells": [
    {
      "cell_type": "markdown",
      "metadata": {
        "id": "view-in-github",
        "colab_type": "text"
      },
      "source": [
        "<a href=\"https://colab.research.google.com/github/pilipandr770/-Hw2.1.ipynb-Hw2.2.ipynb-Hw2.3.ipynb/blob/main/Untitled3.ipynb\" target=\"_parent\"><img src=\"https://colab.research.google.com/assets/colab-badge.svg\" alt=\"Open In Colab\"/></a>"
      ]
    },
    {
      "cell_type": "code",
      "source": [
        "import pandas as pd\n",
        "import numpy as np\n",
        "import matplotlib.pyplot as plt"
      ],
      "metadata": {
        "id": "Wv-MysVrvY7f"
      },
      "execution_count": null,
      "outputs": []
    },
    {
      "cell_type": "code",
      "source": [
        "# Прочитання даних\n",
        "url = \"https://uk.wikipedia.org/wiki/%D0%9D%D0%B0%D1%81%D0%B5%D0%BB%D0%B5%D0%BD%D0%BD%D1%8F_%D0%A3%D0%BA%D1%80%D0%B0%D1%97%D0%BD%D0%B8\"\n",
        "dfs = pd.read_html(url)\n",
        "df = dfs[0]"
      ],
      "metadata": {
        "id": "ECs_NkkjviaN"
      },
      "execution_count": null,
      "outputs": []
    },
    {
      "cell_type": "code",
      "source": [
        "# Виведемо перші рядки для ознайомлення\n",
        "print(df.head())"
      ],
      "metadata": {
        "colab": {
          "base_uri": "https://localhost:8080/"
        },
        "id": "G327_infvsm-",
        "outputId": "94567a8b-aad6-4d30-db9b-bf7a32c5e811"
      },
      "execution_count": null,
      "outputs": [
        {
          "output_type": "stream",
          "name": "stdout",
          "text": [
            "                                   Населення України  \\\n",
            "0  Статево-вікова піраміда населення України на 1...   \n",
            "1                                        Чисельність   \n",
            "2                                            Густота   \n",
            "3                                Коефіцієнт міграції   \n",
            "4                                      Природний рух   \n",
            "\n",
            "                                 Населення України.1  \n",
            "0  Статево-вікова піраміда населення України на 1...  \n",
            "1                   ▼ 40,96 млн (1 лютого 2022) осіб  \n",
            "2                                   ▼ 68,2 особи/км²  \n",
            "3                                             ▲0,9 ‰  \n",
            "4                                      Природний рух  \n"
          ]
        }
      ]
    },
    {
      "cell_type": "code",
      "source": [
        "# Видалимо всі рядки, які містять текстові дані або назви колонок\n",
        "# Використаємо регулярні вирази для більш точного фільтрування\n",
        "df = df[df['Населення України.1'].str.contains('\\d', na=False)]"
      ],
      "metadata": {
        "id": "Cl0-Bd2dv2fH"
      },
      "execution_count": null,
      "outputs": []
    },
    {
      "cell_type": "code",
      "source": [
        "# Видалимо рядки, що мають велику кількість текстових символів\n",
        "df = df[df['Населення України.1'].apply(lambda x: len(str(x)) < 50)]"
      ],
      "metadata": {
        "id": "ChiH4evmwARS"
      },
      "execution_count": null,
      "outputs": []
    },
    {
      "cell_type": "code",
      "source": [
        "# Заміна значення \"—\" на NaN\n",
        "df.replace(\"—\", np.nan, inplace=True)"
      ],
      "metadata": {
        "id": "twPPzWyNwMqp"
      },
      "execution_count": null,
      "outputs": []
    },
    {
      "cell_type": "code",
      "source": [
        "# Очистимо числові дані, видаливши всі небажані символи\n",
        "df['Населення України.1'] = df['Населення України.1'].str.replace('[^\\d.]', '', regex=True)"
      ],
      "metadata": {
        "id": "wkqJ3OaDwWbZ"
      },
      "execution_count": null,
      "outputs": []
    },
    {
      "cell_type": "code",
      "source": [
        "# Перетворимо числові дані в відповідний формат\n",
        "df['Населення України.1'] = pd.to_numeric(df['Населення України.1'], errors='coerce')"
      ],
      "metadata": {
        "id": "gUfIQnoewfpY"
      },
      "execution_count": null,
      "outputs": []
    },
    {
      "cell_type": "code",
      "source": [
        "# Переглянемо типи всіх стовпців\n",
        "print(df.dtypes)"
      ],
      "metadata": {
        "colab": {
          "base_uri": "https://localhost:8080/"
        },
        "id": "RS3K3Psdwp9w",
        "outputId": "20f5286c-3a4f-4c02-9414-44592d7db1e9"
      },
      "execution_count": null,
      "outputs": [
        {
          "output_type": "stream",
          "name": "stdout",
          "text": [
            "Населення України       object\n",
            "Населення України.1    float64\n",
            "dtype: object\n"
          ]
        }
      ]
    },
    {
      "cell_type": "code",
      "source": [
        "# Частка пропусків у кожній колонці\n",
        "missing_data = df.isnull().sum() / len(df)\n",
        "print(missing_data)"
      ],
      "metadata": {
        "colab": {
          "base_uri": "https://localhost:8080/"
        },
        "id": "WEjBr6L4w3aJ",
        "outputId": "603e3507-363c-48bf-cc2a-6704745e6c7b"
      },
      "execution_count": null,
      "outputs": [
        {
          "output_type": "stream",
          "name": "stdout",
          "text": [
            "Населення України      0.000000\n",
            "Населення України.1    0.263158\n",
            "dtype: float64\n"
          ]
        }
      ]
    },
    {
      "cell_type": "code",
      "source": [
        "# Видалення даних по всій країні (останній рядок таблиці)\n",
        "df = df[:-1]"
      ],
      "metadata": {
        "id": "9imEsiAHw_wC"
      },
      "execution_count": null,
      "outputs": []
    },
    {
      "cell_type": "code",
      "source": [
        "# Удаление строки с заголовками, если она присутствует\n",
        "df = df[1:]"
      ],
      "metadata": {
        "id": "53sxrOMLzm5B"
      },
      "execution_count": null,
      "outputs": []
    },
    {
      "cell_type": "code",
      "source": [
        "# Замена пропущенных данных в столбцах средними значениями этих столбцов\n",
        "# Выбираем только числовые столбцы для вычисления среднего значения\n",
        "numeric_df = df.select_dtypes(include=['number'])\n",
        "numeric_df.fillna(numeric_df.mean(), inplace=True)"
      ],
      "metadata": {
        "id": "05dMqX2vzr8q"
      },
      "execution_count": null,
      "outputs": []
    },
    {
      "cell_type": "code",
      "source": [
        "# Перевіримо перші рядки очищеної таблиці\n",
        "print(df.head())"
      ],
      "metadata": {
        "colab": {
          "base_uri": "https://localhost:8080/"
        },
        "id": "jCF-uXHO0MHZ",
        "outputId": "2208260f-f7dc-4047-efec-37a488a38cd2"
      },
      "execution_count": null,
      "outputs": [
        {
          "output_type": "stream",
          "name": "stdout",
          "text": [
            "     Населення України  Населення України.1\n",
            "3  Коефіцієнт міграції                  9.0\n",
            "5    Природний приріст                  1.0\n",
            "6       Народжуваність                 73.0\n",
            "7         Фертильність               1161.0\n",
            "8           Смертність                185.0\n"
          ]
        }
      ]
    },
    {
      "cell_type": "code",
      "source": [
        "plt.figure(figsize=(12, 8))"
      ],
      "metadata": {
        "colab": {
          "base_uri": "https://localhost:8080/",
          "height": 52
        },
        "id": "OPkzjF5l0c1E",
        "outputId": "7cd6f27e-b329-4fdc-83ff-db2b6e84ab86"
      },
      "execution_count": null,
      "outputs": [
        {
          "output_type": "execute_result",
          "data": {
            "text/plain": [
              "<Figure size 1200x800 with 0 Axes>"
            ]
          },
          "metadata": {},
          "execution_count": 24
        },
        {
          "output_type": "display_data",
          "data": {
            "text/plain": [
              "<Figure size 1200x800 with 0 Axes>"
            ]
          },
          "metadata": {}
        }
      ]
    },
    {
      "cell_type": "code",
      "source": [
        "# Проверьте названия столбцов в вашем DataFrame\n",
        "print(df.columns)"
      ],
      "metadata": {
        "colab": {
          "base_uri": "https://localhost:8080/"
        },
        "id": "XkG7vcEB1QWI",
        "outputId": "2f33537c-02d0-48fc-f094-841636c3c57d"
      },
      "execution_count": null,
      "outputs": [
        {
          "output_type": "stream",
          "name": "stdout",
          "text": [
            "Index(['Населення України', 'Населення України.1'], dtype='object')\n"
          ]
        }
      ]
    },
    {
      "source": [
        "plt.bar(df['Населення України'], df['Населення України.1'])"
      ],
      "cell_type": "code",
      "metadata": {
        "colab": {
          "base_uri": "https://localhost:8080/",
          "height": 447
        },
        "id": "kpY_6wnK1nbc",
        "outputId": "27538e2e-e0a2-421b-8c76-454353e5797d"
      },
      "execution_count": null,
      "outputs": [
        {
          "output_type": "execute_result",
          "data": {
            "text/plain": [
              "<BarContainer object of 14 artists>"
            ]
          },
          "metadata": {},
          "execution_count": 29
        },
        {
          "output_type": "display_data",
          "data": {
            "text/plain": [
              "<Figure size 640x480 with 1 Axes>"
            ],
            "image/png": "[encoded data removed]"
          },
          "metadata": {}
        }
      ]
    },
    {
      "cell_type": "code",
      "source": [
        "# Прочитання даних\n",
        "url = \"https://uk.wikipedia.org/wiki/%D0%9D%D0%B0%D1%81%D0%B5%D0%BB%D0%B5%D0%BD%D0%BD%D1%8F_%D0%A3%D0%BA%D1%80%D0%B0%D1%97%D0%BD%D0%B8\"\n",
        "dfs = pd.read_html(url)\n",
        "df = dfs[0]\n",
        "\n",
        "# Виведемо перші рядки для ознайомлення\n",
        "print(df.head())"
      ],
      "metadata": {
        "colab": {
          "base_uri": "https://localhost:8080/"
        },
        "id": "XKw8KiY53YMy",
        "outputId": "c614c25f-2749-46ec-c136-4eef0e376ff0"
      },
      "execution_count": null,
      "outputs": [
        {
          "output_type": "stream",
          "name": "stdout",
          "text": [
            "                                   Населення України  \\\n",
            "0  Статево-вікова піраміда населення України на 1...   \n",
            "1                                        Чисельність   \n",
            "2                                            Густота   \n",
            "3                                Коефіцієнт міграції   \n",
            "4                                      Природний рух   \n",
            "\n",
            "                                 Населення України.1  \n",
            "0  Статево-вікова піраміда населення України на 1...  \n",
            "1                   ▼ 40,96 млн (1 лютого 2022) осіб  \n",
            "2                                   ▼ 68,2 особи/км²  \n",
            "3                                             ▲0,9 ‰  \n",
            "4                                      Природний рух  \n"
          ]
        }
      ]
    },
    {
      "cell_type": "code",
      "source": [
        "plt.figure(figsize=(12, 8))\n",
        "\n",
        "plt.xlabel('Регіони')\n",
        "plt.ylabel('Народжуваність у 2019 році')\n",
        "plt.title('Народжуваність по регіонах у 2019 році')\n",
        "plt.xticks(rotation=90)\n",
        "plt.show()"
      ],
      "metadata": {
        "colab": {
          "base_uri": "https://localhost:8080/",
          "height": 746
        },
        "id": "iiUZFdLZ3_kA",
        "outputId": "de89efb6-531d-4b40-f1d0-48ece09f6bee"
      },
      "execution_count": null,
      "outputs": [
        {
          "output_type": "display_data",
          "data": {
            "text/plain": [
              "<Figure size 1200x800 with 1 Axes>"
            ],
            "image/png": "[encoded data removed]"
          },
          "metadata": {}
        }
      ]
    },
    {
      "cell_type": "code",
      "source": [
        "import pandas as pd\n",
        "\n",
        "# Правильна URL-адреса для завантаження даних у форматі CSV\n",
        "url = 'https://docs.google.com/spreadsheets/d/1bclX5PbqE8zR1-wOSM3ZTFa53sIC7RXqwty7Abmw9yQ/export?format=csv&gid=1724592523'\n",
        "\n",
        "# Завантаження даних\n",
        "df_survey = pd.read_csv(url)\n",
        "\n",
        "# Перегляд перших рядків таблиці\n",
        "print(df_survey.head())\n"
      ],
      "metadata": {
        "colab": {
          "base_uri": "https://localhost:8080/"
        },
        "id": "ZPJLuj6lNxQV",
        "outputId": "f9490112-ff4f-4a90-98b8-26c51e7bde17"
      },
      "execution_count": null,
      "outputs": [
        {
          "output_type": "stream",
          "name": "stdout",
          "text": [
            "   N                    Посада Мова програмування Спеціалізація  \\\n",
            "0  1        Junior QA engineer                NaN     Manual QA   \n",
            "1  2        Junior QA engineer                NaN     Manual QA   \n",
            "2  3         Software Engineer            C#/.NET           NaN   \n",
            "3  4         Software Engineer         JavaScript           NaN   \n",
            "4  5  Senior Software Engineer         JavaScript           NaN   \n",
            "\n",
            "  Загальний досвід роботи Досвід роботи на поточному місці  \\\n",
            "0                     0.5                              0.5   \n",
            "1         менше 3 місяців                  менше 3 місяців   \n",
            "2                       4                                1   \n",
            "3                       5                                4   \n",
            "4       10 і більше років                              0.5   \n",
            "\n",
            "   Зарплата на місяць  Зміна зарплати за 12 місяців   Місто   Розмір компанії  \\\n",
            "0                 400                             0  Харків        до 10 осіб   \n",
            "1                 430                           130  Харків  більше 1000 осіб   \n",
            "2                2500                           800    Київ      до 1000 осіб   \n",
            "3                2000                           400   Одеса       до 200 осіб   \n",
            "4                4500                           500    Інше        до 10 осіб   \n",
            "\n",
            "   ... Ще студент                    Рівень англійської  \\\n",
            "0  ...       True    Pre-intermediate (нище середнього)   \n",
            "1  ...       True  Upper-Intermediate (вище середнього)   \n",
            "2  ...      False               Intermediate (середній)   \n",
            "3  ...      False    Pre-intermediate (нище середнього)   \n",
            "4  ...      False               Intermediate (середній)   \n",
            "\n",
            "                   Предметна область      Дата заповнення  \\\n",
            "0                      iOS,eCommerce  12/06/2017 12:38:08   \n",
            "1                       Веб-розробка  12/06/2017 12:42:51   \n",
            "2  Веб-розробка,Корпоративні системи  12/06/2017 13:02:47   \n",
            "3  Desktop Applications,Веб-розробка  12/06/2017 13:03:01   \n",
            "4  Desktop Applications,Веб-розробка  12/06/2017 13:03:47   \n",
            "\n",
            "                                          User.Agent   exp current_job_exp  \\\n",
            "0  Mozilla/5.0 (Windows NT 10.0; Win64; x64) Appl...   0.5             0.5   \n",
            "1  Mozilla/5.0 (iPad; CPU OS 10_2_1 like Mac OS X...   0.0             0.0   \n",
            "2  Mozilla/5.0 (Windows NT 10.0; Win64; x64) Appl...   4.0             1.0   \n",
            "3  Mozilla/5.0 (Windows NT 6.1; Win64; x64) Apple...   5.0             4.0   \n",
            "4  Mozilla/5.0 (iPhone; CPU iPhone OS 10_3_2 like...  10.0             0.5   \n",
            "\n",
            "  salary Валюта  cls  \n",
            "0    400    NaN   QA  \n",
            "1    430    NaN   QA  \n",
            "2   2500    NaN  DEV  \n",
            "3   2000    NaN  DEV  \n",
            "4   4500    NaN  DEV  \n",
            "\n",
            "[5 rows x 25 columns]\n"
          ]
        }
      ]
    },
    {
      "source": [
        "import pandas as pd\n",
        "\n",
        "# Правильна URL-адреса для завантаження даних у форматі CSV\n",
        "url = 'https://docs.google.com/spreadsheets/d/1bclX5PbqE8zR1-wOSM3ZTFa53sIC7RXqwty7Abmw9yQ/export?format=csv&gid=1724592523'\n",
        "\n",
        "# Завантаження даних using the correct pandas reader function for csv files\n",
        "df_survey = pd.read_csv(url)\n",
        "\n",
        "# Перегляд перших рядків таблиці\n",
        "print(df_survey.head())"
      ],
      "cell_type": "code",
      "metadata": {
        "colab": {
          "base_uri": "https://localhost:8080/"
        },
        "id": "4fe1kvD-Pe3l",
        "outputId": "c67eb792-62bd-4384-fd43-469dc6829631"
      },
      "execution_count": null,
      "outputs": [
        {
          "output_type": "stream",
          "name": "stdout",
          "text": [
            "   N                    Посада Мова програмування Спеціалізація  \\\n",
            "0  1        Junior QA engineer                NaN     Manual QA   \n",
            "1  2        Junior QA engineer                NaN     Manual QA   \n",
            "2  3         Software Engineer            C#/.NET           NaN   \n",
            "3  4         Software Engineer         JavaScript           NaN   \n",
            "4  5  Senior Software Engineer         JavaScript           NaN   \n",
            "\n",
            "  Загальний досвід роботи Досвід роботи на поточному місці  \\\n",
            "0                     0.5                              0.5   \n",
            "1         менше 3 місяців                  менше 3 місяців   \n",
            "2                       4                                1   \n",
            "3                       5                                4   \n",
            "4       10 і більше років                              0.5   \n",
            "\n",
            "   Зарплата на місяць  Зміна зарплати за 12 місяців   Місто   Розмір компанії  \\\n",
            "0                 400                             0  Харків        до 10 осіб   \n",
            "1                 430                           130  Харків  більше 1000 осіб   \n",
            "2                2500                           800    Київ      до 1000 осіб   \n",
            "3                2000                           400   Одеса       до 200 осіб   \n",
            "4                4500                           500    Інше        до 10 осіб   \n",
            "\n",
            "   ... Ще студент                    Рівень англійської  \\\n",
            "0  ...       True    Pre-intermediate (нище середнього)   \n",
            "1  ...       True  Upper-Intermediate (вище середнього)   \n",
            "2  ...      False               Intermediate (середній)   \n",
            "3  ...      False    Pre-intermediate (нище середнього)   \n",
            "4  ...      False               Intermediate (середній)   \n",
            "\n",
            "                   Предметна область      Дата заповнення  \\\n",
            "0                      iOS,eCommerce  12/06/2017 12:38:08   \n",
            "1                       Веб-розробка  12/06/2017 12:42:51   \n",
            "2  Веб-розробка,Корпоративні системи  12/06/2017 13:02:47   \n",
            "3  Desktop Applications,Веб-розробка  12/06/2017 13:03:01   \n",
            "4  Desktop Applications,Веб-розробка  12/06/2017 13:03:47   \n",
            "\n",
            "                                          User.Agent   exp current_job_exp  \\\n",
            "0  Mozilla/5.0 (Windows NT 10.0; Win64; x64) Appl...   0.5             0.5   \n",
            "1  Mozilla/5.0 (iPad; CPU OS 10_2_1 like Mac OS X...   0.0             0.0   \n",
            "2  Mozilla/5.0 (Windows NT 10.0; Win64; x64) Appl...   4.0             1.0   \n",
            "3  Mozilla/5.0 (Windows NT 6.1; Win64; x64) Apple...   5.0             4.0   \n",
            "4  Mozilla/5.0 (iPhone; CPU iPhone OS 10_3_2 like...  10.0             0.5   \n",
            "\n",
            "  salary Валюта  cls  \n",
            "0    400    NaN   QA  \n",
            "1    430    NaN   QA  \n",
            "2   2500    NaN  DEV  \n",
            "3   2000    NaN  DEV  \n",
            "4   4500    NaN  DEV  \n",
            "\n",
            "[5 rows x 25 columns]\n"
          ]
        }
      ]
    },
    {
      "cell_type": "code",
      "source": [
        "df = dfs[0]\n"
      ],
      "metadata": {
        "id": "0yRgadLHPmHw"
      },
      "execution_count": null,
      "outputs": []
    },
    {
      "cell_type": "code",
      "source": [
        "\n",
        "# Розмір таблиці\n",
        "print(df_survey.shape)\n",
        "\n",
        "# Типи всіх стовпців\n",
        "print(df_survey.dtypes)"
      ],
      "metadata": {
        "colab": {
          "base_uri": "https://localhost:8080/"
        },
        "id": "qxxEveBKPvgl",
        "outputId": "f6bb0a4f-a8db-4da9-d8ee-f35a401becd3"
      },
      "execution_count": null,
      "outputs": [
        {
          "output_type": "stream",
          "name": "stdout",
          "text": [
            "(8704, 25)\n",
            "N                                     int64\n",
            "Посада                               object\n",
            "Мова програмування                   object\n",
            "Спеціалізація                        object\n",
            "Загальний досвід роботи              object\n",
            "Досвід роботи на поточному місці     object\n",
            "Зарплата на місяць                    int64\n",
            "Зміна зарплати за 12 місяців          int64\n",
            "Місто                                object\n",
            "Розмір компанії                      object\n",
            "Тип компанії                         object\n",
            "Стать                                object\n",
            "Вік                                   int64\n",
            "Освіта                               object\n",
            "Університет                          object\n",
            "Ще студент                             bool\n",
            "Рівень англійської                   object\n",
            "Предметна область                    object\n",
            "Дата заповнення                      object\n",
            "User.Agent                           object\n",
            "exp                                 float64\n",
            "current_job_exp                     float64\n",
            "salary                                int64\n",
            "Валюта                               object\n",
            "cls                                  object\n",
            "dtype: object\n"
          ]
        }
      ]
    },
    {
      "cell_type": "code",
      "source": [
        "# Частка пропусків у кожній колонці\n",
        "missing_data_survey = df_survey.isnull().sum() / len(df_survey)\n",
        "print(missing_data_survey)"
      ],
      "metadata": {
        "colab": {
          "base_uri": "https://localhost:8080/"
        },
        "id": "56WufsXFRP_a",
        "outputId": "3fbe3fea-b4d3-4d57-e51a-b6323e6ac756"
      },
      "execution_count": null,
      "outputs": [
        {
          "output_type": "stream",
          "name": "stdout",
          "text": [
            "N                                   0.000000\n",
            "Посада                              0.000000\n",
            "Мова програмування                  0.442325\n",
            "Спеціалізація                       0.829389\n",
            "Загальний досвід роботи             0.000000\n",
            "Досвід роботи на поточному місці    0.000000\n",
            "Зарплата на місяць                  0.000000\n",
            "Зміна зарплати за 12 місяців        0.000000\n",
            "Місто                               0.000000\n",
            "Розмір компанії                     0.000000\n",
            "Тип компанії                        0.000000\n",
            "Стать                               0.000000\n",
            "Вік                                 0.000000\n",
            "Освіта                              0.000000\n",
            "Університет                         0.041131\n",
            "Ще студент                          0.000000\n",
            "Рівень англійської                  0.000000\n",
            "Предметна область                   0.025620\n",
            "Дата заповнення                     0.000000\n",
            "User.Agent                          0.000000\n",
            "exp                                 0.000000\n",
            "current_job_exp                     0.000000\n",
            "salary                              0.000000\n",
            "Валюта                              0.998851\n",
            "cls                                 0.180836\n",
            "dtype: float64\n"
          ]
        }
      ]
    },
    {
      "cell_type": "code",
      "source": [
        "import pandas as pd\n",
        "\n",
        "# Завантаження даних із Google Sheets\n",
        "url = 'https://docs.google.com/spreadsheets/d/1bclX5PbqE8zR1-wOSM3ZTFa53sIC7RXqwty7Abmw9yQ/export?format=csv&gid=1724592523'\n",
        "df_survey = pd.read_csv(url)\n",
        "\n",
        "# Перегляд перших рядків таблиці\n",
        "print(df_survey.head())\n",
        "\n",
        "# Видалення стовпців з пропусками, крім стовпця \"Мова програмування\"\n",
        "columns_with_nan = [col for col in df_survey.columns if col != 'Мова програмування' and df_survey[col].isnull().any()]\n",
        "df_survey_cleaned = df_survey.drop(columns=columns_with_nan)\n",
        "\n",
        "# Перегляд перших рядків очищеної таблиці\n",
        "print(df_survey_cleaned.head())\n"
      ],
      "metadata": {
        "colab": {
          "base_uri": "https://localhost:8080/"
        },
        "id": "cfRdsklYSpkP",
        "outputId": "fca43856-f5ff-4434-9b68-ca71efffe45e"
      },
      "execution_count": null,
      "outputs": [
        {
          "output_type": "stream",
          "name": "stdout",
          "text": [
            "   N                    Посада Мова програмування Спеціалізація  \\\n",
            "0  1        Junior QA engineer                NaN     Manual QA   \n",
            "1  2        Junior QA engineer                NaN     Manual QA   \n",
            "2  3         Software Engineer            C#/.NET           NaN   \n",
            "3  4         Software Engineer         JavaScript           NaN   \n",
            "4  5  Senior Software Engineer         JavaScript           NaN   \n",
            "\n",
            "  Загальний досвід роботи Досвід роботи на поточному місці  \\\n",
            "0                     0.5                              0.5   \n",
            "1         менше 3 місяців                  менше 3 місяців   \n",
            "2                       4                                1   \n",
            "3                       5                                4   \n",
            "4       10 і більше років                              0.5   \n",
            "\n",
            "   Зарплата на місяць  Зміна зарплати за 12 місяців   Місто   Розмір компанії  \\\n",
            "0                 400                             0  Харків        до 10 осіб   \n",
            "1                 430                           130  Харків  більше 1000 осіб   \n",
            "2                2500                           800    Київ      до 1000 осіб   \n",
            "3                2000                           400   Одеса       до 200 осіб   \n",
            "4                4500                           500    Інше        до 10 осіб   \n",
            "\n",
            "   ... Ще студент                    Рівень англійської  \\\n",
            "0  ...       True    Pre-intermediate (нище середнього)   \n",
            "1  ...       True  Upper-Intermediate (вище середнього)   \n",
            "2  ...      False               Intermediate (середній)   \n",
            "3  ...      False    Pre-intermediate (нище середнього)   \n",
            "4  ...      False               Intermediate (середній)   \n",
            "\n",
            "                   Предметна область      Дата заповнення  \\\n",
            "0                      iOS,eCommerce  12/06/2017 12:38:08   \n",
            "1                       Веб-розробка  12/06/2017 12:42:51   \n",
            "2  Веб-розробка,Корпоративні системи  12/06/2017 13:02:47   \n",
            "3  Desktop Applications,Веб-розробка  12/06/2017 13:03:01   \n",
            "4  Desktop Applications,Веб-розробка  12/06/2017 13:03:47   \n",
            "\n",
            "                                          User.Agent   exp current_job_exp  \\\n",
            "0  Mozilla/5.0 (Windows NT 10.0; Win64; x64) Appl...   0.5             0.5   \n",
            "1  Mozilla/5.0 (iPad; CPU OS 10_2_1 like Mac OS X...   0.0             0.0   \n",
            "2  Mozilla/5.0 (Windows NT 10.0; Win64; x64) Appl...   4.0             1.0   \n",
            "3  Mozilla/5.0 (Windows NT 6.1; Win64; x64) Apple...   5.0             4.0   \n",
            "4  Mozilla/5.0 (iPhone; CPU iPhone OS 10_3_2 like...  10.0             0.5   \n",
            "\n",
            "  salary Валюта  cls  \n",
            "0    400    NaN   QA  \n",
            "1    430    NaN   QA  \n",
            "2   2500    NaN  DEV  \n",
            "3   2000    NaN  DEV  \n",
            "4   4500    NaN  DEV  \n",
            "\n",
            "[5 rows x 25 columns]\n",
            "   N                    Посада Мова програмування Загальний досвід роботи  \\\n",
            "0  1        Junior QA engineer                NaN                     0.5   \n",
            "1  2        Junior QA engineer                NaN         менше 3 місяців   \n",
            "2  3         Software Engineer            C#/.NET                       4   \n",
            "3  4         Software Engineer         JavaScript                       5   \n",
            "4  5  Senior Software Engineer         JavaScript       10 і більше років   \n",
            "\n",
            "  Досвід роботи на поточному місці  Зарплата на місяць  \\\n",
            "0                              0.5                 400   \n",
            "1                  менше 3 місяців                 430   \n",
            "2                                1                2500   \n",
            "3                                4                2000   \n",
            "4                              0.5                4500   \n",
            "\n",
            "   Зміна зарплати за 12 місяців   Місто   Розмір компанії   Тип компанії  \\\n",
            "0                             0  Харків        до 10 осіб  Аутсорсингова   \n",
            "1                           130  Харків  більше 1000 осіб  Аутсорсингова   \n",
            "2                           800    Київ      до 1000 осіб  Аутсорсингова   \n",
            "3                           400   Одеса       до 200 осіб     Продуктова   \n",
            "4                           500    Інше        до 10 осіб     Продуктова   \n",
            "\n",
            "      Стать  Вік             Освіта  Ще студент  \\\n",
            "0    жіноча   20       Неповна Вища        True   \n",
            "1    жіноча   21       Неповна Вища        True   \n",
            "2  чоловіча   26               Вища       False   \n",
            "3  чоловіча   30            Середня       False   \n",
            "4  чоловіча   30  Технікум / Коледж       False   \n",
            "\n",
            "                     Рівень англійської      Дата заповнення  \\\n",
            "0    Pre-intermediate (нище середнього)  12/06/2017 12:38:08   \n",
            "1  Upper-Intermediate (вище середнього)  12/06/2017 12:42:51   \n",
            "2               Intermediate (середній)  12/06/2017 13:02:47   \n",
            "3    Pre-intermediate (нище середнього)  12/06/2017 13:03:01   \n",
            "4               Intermediate (середній)  12/06/2017 13:03:47   \n",
            "\n",
            "                                          User.Agent   exp  current_job_exp  \\\n",
            "0  Mozilla/5.0 (Windows NT 10.0; Win64; x64) Appl...   0.5              0.5   \n",
            "1  Mozilla/5.0 (iPad; CPU OS 10_2_1 like Mac OS X...   0.0              0.0   \n",
            "2  Mozilla/5.0 (Windows NT 10.0; Win64; x64) Appl...   4.0              1.0   \n",
            "3  Mozilla/5.0 (Windows NT 6.1; Win64; x64) Apple...   5.0              4.0   \n",
            "4  Mozilla/5.0 (iPhone; CPU iPhone OS 10_3_2 like...  10.0              0.5   \n",
            "\n",
            "   salary  \n",
            "0     400  \n",
            "1     430  \n",
            "2    2500  \n",
            "3    2000  \n",
            "4    4500  \n"
          ]
        }
      ]
    },
    {
      "cell_type": "code",
      "source": [
        "# Знову частка пропусків\n",
        "missing_data_cleaned = df_survey_cleaned.isnull().sum() / len(df_survey_cleaned)\n",
        "print(missing_data_cleaned)"
      ],
      "metadata": {
        "colab": {
          "base_uri": "https://localhost:8080/"
        },
        "id": "TPYzIQoOTPVt",
        "outputId": "60e071c0-7548-4247-a2cd-b38f29b3db62"
      },
      "execution_count": null,
      "outputs": [
        {
          "output_type": "stream",
          "name": "stdout",
          "text": [
            "N                                   0.000000\n",
            "Посада                              0.000000\n",
            "Мова програмування                  0.442325\n",
            "Загальний досвід роботи             0.000000\n",
            "Досвід роботи на поточному місці    0.000000\n",
            "Зарплата на місяць                  0.000000\n",
            "Зміна зарплати за 12 місяців        0.000000\n",
            "Місто                               0.000000\n",
            "Розмір компанії                     0.000000\n",
            "Тип компанії                        0.000000\n",
            "Стать                               0.000000\n",
            "Вік                                 0.000000\n",
            "Освіта                              0.000000\n",
            "Ще студент                          0.000000\n",
            "Рівень англійської                  0.000000\n",
            "Дата заповнення                     0.000000\n",
            "User.Agent                          0.000000\n",
            "exp                                 0.000000\n",
            "current_job_exp                     0.000000\n",
            "salary                              0.000000\n",
            "dtype: float64\n"
          ]
        }
      ]
    },
    {
      "cell_type": "code",
      "source": [
        "# Видалення усіх рядків з пропусками\n",
        "df_survey_cleaned = df_survey_cleaned.dropna()\n",
        "\n",
        "# Новий розмір таблиці\n",
        "print(df_survey_cleaned.shape)"
      ],
      "metadata": {
        "colab": {
          "base_uri": "https://localhost:8080/"
        },
        "id": "j7n4QGvCTS68",
        "outputId": "cb3ece47-0871-42d7-9918-312305627695"
      },
      "execution_count": null,
      "outputs": [
        {
          "output_type": "stream",
          "name": "stdout",
          "text": [
            "(4854, 20)\n"
          ]
        }
      ]
    },
    {
      "cell_type": "code",
      "source": [
        "# Фільтрація по мові програмування Python\n",
        "python_data = df_survey_cleaned[df_survey_cleaned['Мова програмування'].str.contains('Python', na=False)]\n",
        "\n",
        "# Розмір таблиці python_data\n",
        "print(python_data.shape)"
      ],
      "metadata": {
        "colab": {
          "base_uri": "https://localhost:8080/"
        },
        "id": "-RK0rGL4Td8Y",
        "outputId": "36970e86-3de0-4565-e7e9-53637876fabd"
      },
      "execution_count": null,
      "outputs": [
        {
          "output_type": "stream",
          "name": "stdout",
          "text": [
            "(207, 20)\n"
          ]
        }
      ]
    },
    {
      "cell_type": "code",
      "source": [
        "import pandas as pd\n",
        "\n",
        "# Завантаження даних із Google Sheets\n",
        "url = 'https://docs.google.com/spreadsheets/d/1bclX5PbqE8zR1-wOSM3ZTFa53sIC7RXqwty7Abmw9yQ/export?format=csv&gid=1724592523'\n",
        "df_survey = pd.read_csv(url)\n",
        "\n",
        "# Перегляд перших рядків таблиці\n",
        "print(df_survey.head())\n",
        "\n",
        "# Перегляд назв стовпців\n",
        "print(df_survey.columns)"
      ],
      "metadata": {
        "colab": {
          "base_uri": "https://localhost:8080/"
        },
        "id": "FmaSsk2nU12q",
        "outputId": "f86aae6b-6568-4a01-e97f-08a28f916da5"
      },
      "execution_count": null,
      "outputs": [
        {
          "output_type": "stream",
          "name": "stdout",
          "text": [
            "   N                    Посада Мова програмування Спеціалізація  \\\n",
            "0  1        Junior QA engineer                NaN     Manual QA   \n",
            "1  2        Junior QA engineer                NaN     Manual QA   \n",
            "2  3         Software Engineer            C#/.NET           NaN   \n",
            "3  4         Software Engineer         JavaScript           NaN   \n",
            "4  5  Senior Software Engineer         JavaScript           NaN   \n",
            "\n",
            "  Загальний досвід роботи Досвід роботи на поточному місці  \\\n",
            "0                     0.5                              0.5   \n",
            "1         менше 3 місяців                  менше 3 місяців   \n",
            "2                       4                                1   \n",
            "3                       5                                4   \n",
            "4       10 і більше років                              0.5   \n",
            "\n",
            "   Зарплата на місяць  Зміна зарплати за 12 місяців   Місто   Розмір компанії  \\\n",
            "0                 400                             0  Харків        до 10 осіб   \n",
            "1                 430                           130  Харків  більше 1000 осіб   \n",
            "2                2500                           800    Київ      до 1000 осіб   \n",
            "3                2000                           400   Одеса       до 200 осіб   \n",
            "4                4500                           500    Інше        до 10 осіб   \n",
            "\n",
            "   ... Ще студент                    Рівень англійської  \\\n",
            "0  ...       True    Pre-intermediate (нище середнього)   \n",
            "1  ...       True  Upper-Intermediate (вище середнього)   \n",
            "2  ...      False               Intermediate (середній)   \n",
            "3  ...      False    Pre-intermediate (нище середнього)   \n",
            "4  ...      False               Intermediate (середній)   \n",
            "\n",
            "                   Предметна область      Дата заповнення  \\\n",
            "0                      iOS,eCommerce  12/06/2017 12:38:08   \n",
            "1                       Веб-розробка  12/06/2017 12:42:51   \n",
            "2  Веб-розробка,Корпоративні системи  12/06/2017 13:02:47   \n",
            "3  Desktop Applications,Веб-розробка  12/06/2017 13:03:01   \n",
            "4  Desktop Applications,Веб-розробка  12/06/2017 13:03:47   \n",
            "\n",
            "                                          User.Agent   exp current_job_exp  \\\n",
            "0  Mozilla/5.0 (Windows NT 10.0; Win64; x64) Appl...   0.5             0.5   \n",
            "1  Mozilla/5.0 (iPad; CPU OS 10_2_1 like Mac OS X...   0.0             0.0   \n",
            "2  Mozilla/5.0 (Windows NT 10.0; Win64; x64) Appl...   4.0             1.0   \n",
            "3  Mozilla/5.0 (Windows NT 6.1; Win64; x64) Apple...   5.0             4.0   \n",
            "4  Mozilla/5.0 (iPhone; CPU iPhone OS 10_3_2 like...  10.0             0.5   \n",
            "\n",
            "  salary Валюта  cls  \n",
            "0    400    NaN   QA  \n",
            "1    430    NaN   QA  \n",
            "2   2500    NaN  DEV  \n",
            "3   2000    NaN  DEV  \n",
            "4   4500    NaN  DEV  \n",
            "\n",
            "[5 rows x 25 columns]\n",
            "Index(['N', 'Посада', 'Мова програмування', 'Спеціалізація',\n",
            "       'Загальний досвід роботи', 'Досвід роботи на поточному місці',\n",
            "       'Зарплата на місяць', 'Зміна зарплати за 12 місяців', 'Місто',\n",
            "       'Розмір компанії', 'Тип компанії', 'Стать', 'Вік', 'Освіта',\n",
            "       'Університет', 'Ще студент', 'Рівень англійської', 'Предметна область',\n",
            "       'Дата заповнення', 'User.Agent', 'exp', 'current_job_exp', 'salary',\n",
            "       'Валюта', 'cls'],\n",
            "      dtype='object')\n"
          ]
        }
      ]
    },
    {
      "cell_type": "code",
      "source": [
        "# Видалення пробілів з назв стовпців\n",
        "df_survey.columns = df_survey.columns.str.strip()\n",
        "\n",
        "# Фільтрація по мові програмування Python\n",
        "python_data = df_survey[df_survey['Мова програмування'].str.contains('Python', na=False)]\n",
        "\n",
        "# Перевірка назв стовпців після фільтрації\n",
        "print(python_data.columns)"
      ],
      "metadata": {
        "colab": {
          "base_uri": "https://localhost:8080/"
        },
        "id": "4zCBq83vU-f_",
        "outputId": "40050bde-fe2c-4305-9c06-dd67f901876f"
      },
      "execution_count": null,
      "outputs": [
        {
          "output_type": "stream",
          "name": "stdout",
          "text": [
            "Index(['N', 'Посада', 'Мова програмування', 'Спеціалізація',\n",
            "       'Загальний досвід роботи', 'Досвід роботи на поточному місці',\n",
            "       'Зарплата на місяць', 'Зміна зарплати за 12 місяців', 'Місто',\n",
            "       'Розмір компанії', 'Тип компанії', 'Стать', 'Вік', 'Освіта',\n",
            "       'Університет', 'Ще студент', 'Рівень англійської', 'Предметна область',\n",
            "       'Дата заповнення', 'User.Agent', 'exp', 'current_job_exp', 'salary',\n",
            "       'Валюта', 'cls'],\n",
            "      dtype='object')\n"
          ]
        }
      ]
    },
    {
      "cell_type": "code",
      "source": [
        "import pandas as pd\n",
        "\n",
        "# Завантаження даних із Google Sheets\n",
        "url = 'https://docs.google.com/spreadsheets/d/1bclX5PbqE8zR1-wOSM3ZTFa53sIC7RXqwty7Abmw9yQ/export?format=csv&gid=1724592523'\n",
        "df_survey = pd.read_csv(url)\n",
        "\n",
        "# Перегляд перших рядків таблиці\n",
        "print(df_survey.head())\n",
        "\n",
        "# Перегляд назв стовпців\n",
        "print(\"Назви стовпців до очистки:\")\n",
        "print(df_survey.columns)\n",
        "\n",
        "# Видалення пробілів з назв стовпців\n",
        "df_survey.columns = df_survey.columns.str.strip()\n",
        "\n",
        "# Перегляд назв стовпців після очистки\n",
        "print(\"Назви стовпців після очистки:\")\n",
        "print(df_survey.columns)\n",
        "\n",
        "# Перевірка наявності стовпця \"Зарплата в місяць\"\n",
        "if 'Зарплата в місяць' in df_survey.columns:\n",
        "    print(\"Стовпець 'Зарплата в місяць' знайдено.\")\n",
        "else:\n",
        "    print(\"Стовпець 'Зарплата в місяць' не знайдено. Перегляньте список стовпців.\")\n",
        "\n",
        "# Фільтрація по мові програмування Python\n",
        "python_data = df_survey[df_survey['Мова програмування'].str.contains('Python', na=False)]\n",
        "\n",
        "# Перевірка назв стовпців після фільтрації\n",
        "print(\"Назви стовпців після фільтрації:\")\n",
        "print(python_data.columns)\n",
        "\n",
        "# Перевірка перших рядків після фільтрації\n",
        "print(\"Перші рядки після фільтрації:\")\n",
        "print(python_data.head())\n",
        "\n",
        "# Групування за \"Посада\" та агрегація по стовпцю \"Зарплата в місяць\"\n",
        "try:\n",
        "    grouped_data = python_data.groupby('Посада')['Зарплата в місяць'].agg(['min', 'max'])\n",
        "    # Перегляд результатів групування\n",
        "    print(\"Результати групування:\")\n",
        "    print(grouped_data)\n",
        "except KeyError as e:\n",
        "    print(f\"Помилка: {e}. Перевірте, чи існує стовпець 'Зарплата в місяць' у DataFrame.\")\n"
      ],
      "metadata": {
        "colab": {
          "base_uri": "https://localhost:8080/"
        },
        "id": "WKgOL9jQVvFi",
        "outputId": "4f5b01d9-5c02-4630-82d9-202b2e70bcaf"
      },
      "execution_count": null,
      "outputs": [
        {
          "output_type": "stream",
          "name": "stdout",
          "text": [
            "   N                    Посада Мова програмування Спеціалізація  \\\n",
            "0  1        Junior QA engineer                NaN     Manual QA   \n",
            "1  2        Junior QA engineer                NaN     Manual QA   \n",
            "2  3         Software Engineer            C#/.NET           NaN   \n",
            "3  4         Software Engineer         JavaScript           NaN   \n",
            "4  5  Senior Software Engineer         JavaScript           NaN   \n",
            "\n",
            "  Загальний досвід роботи Досвід роботи на поточному місці  \\\n",
            "0                     0.5                              0.5   \n",
            "1         менше 3 місяців                  менше 3 місяців   \n",
            "2                       4                                1   \n",
            "3                       5                                4   \n",
            "4       10 і більше років                              0.5   \n",
            "\n",
            "   Зарплата на місяць  Зміна зарплати за 12 місяців   Місто   Розмір компанії  \\\n",
            "0                 400                             0  Харків        до 10 осіб   \n",
            "1                 430                           130  Харків  більше 1000 осіб   \n",
            "2                2500                           800    Київ      до 1000 осіб   \n",
            "3                2000                           400   Одеса       до 200 осіб   \n",
            "4                4500                           500    Інше        до 10 осіб   \n",
            "\n",
            "   ... Ще студент                    Рівень англійської  \\\n",
            "0  ...       True    Pre-intermediate (нище середнього)   \n",
            "1  ...       True  Upper-Intermediate (вище середнього)   \n",
            "2  ...      False               Intermediate (середній)   \n",
            "3  ...      False    Pre-intermediate (нище середнього)   \n",
            "4  ...      False               Intermediate (середній)   \n",
            "\n",
            "                   Предметна область      Дата заповнення  \\\n",
            "0                      iOS,eCommerce  12/06/2017 12:38:08   \n",
            "1                       Веб-розробка  12/06/2017 12:42:51   \n",
            "2  Веб-розробка,Корпоративні системи  12/06/2017 13:02:47   \n",
            "3  Desktop Applications,Веб-розробка  12/06/2017 13:03:01   \n",
            "4  Desktop Applications,Веб-розробка  12/06/2017 13:03:47   \n",
            "\n",
            "                                          User.Agent   exp current_job_exp  \\\n",
            "0  Mozilla/5.0 (Windows NT 10.0; Win64; x64) Appl...   0.5             0.5   \n",
            "1  Mozilla/5.0 (iPad; CPU OS 10_2_1 like Mac OS X...   0.0             0.0   \n",
            "2  Mozilla/5.0 (Windows NT 10.0; Win64; x64) Appl...   4.0             1.0   \n",
            "3  Mozilla/5.0 (Windows NT 6.1; Win64; x64) Apple...   5.0             4.0   \n",
            "4  Mozilla/5.0 (iPhone; CPU iPhone OS 10_3_2 like...  10.0             0.5   \n",
            "\n",
            "  salary Валюта  cls  \n",
            "0    400    NaN   QA  \n",
            "1    430    NaN   QA  \n",
            "2   2500    NaN  DEV  \n",
            "3   2000    NaN  DEV  \n",
            "4   4500    NaN  DEV  \n",
            "\n",
            "[5 rows x 25 columns]\n",
            "Назви стовпців до очистки:\n",
            "Index(['N', 'Посада', 'Мова програмування', 'Спеціалізація',\n",
            "       'Загальний досвід роботи', 'Досвід роботи на поточному місці',\n",
            "       'Зарплата на місяць', 'Зміна зарплати за 12 місяців', 'Місто',\n",
            "       'Розмір компанії', 'Тип компанії', 'Стать', 'Вік', 'Освіта',\n",
            "       'Університет', 'Ще студент', 'Рівень англійської', 'Предметна область',\n",
            "       'Дата заповнення', 'User.Agent', 'exp', 'current_job_exp', 'salary',\n",
            "       'Валюта', 'cls'],\n",
            "      dtype='object')\n",
            "Назви стовпців після очистки:\n",
            "Index(['N', 'Посада', 'Мова програмування', 'Спеціалізація',\n",
            "       'Загальний досвід роботи', 'Досвід роботи на поточному місці',\n",
            "       'Зарплата на місяць', 'Зміна зарплати за 12 місяців', 'Місто',\n",
            "       'Розмір компанії', 'Тип компанії', 'Стать', 'Вік', 'Освіта',\n",
            "       'Університет', 'Ще студент', 'Рівень англійської', 'Предметна область',\n",
            "       'Дата заповнення', 'User.Agent', 'exp', 'current_job_exp', 'salary',\n",
            "       'Валюта', 'cls'],\n",
            "      dtype='object')\n",
            "Стовпець 'Зарплата в місяць' не знайдено. Перегляньте список стовпців.\n",
            "Назви стовпців після фільтрації:\n",
            "Index(['N', 'Посада', 'Мова програмування', 'Спеціалізація',\n",
            "       'Загальний досвід роботи', 'Досвід роботи на поточному місці',\n",
            "       'Зарплата на місяць', 'Зміна зарплати за 12 місяців', 'Місто',\n",
            "       'Розмір компанії', 'Тип компанії', 'Стать', 'Вік', 'Освіта',\n",
            "       'Університет', 'Ще студент', 'Рівень англійської', 'Предметна область',\n",
            "       'Дата заповнення', 'User.Agent', 'exp', 'current_job_exp', 'salary',\n",
            "       'Валюта', 'cls'],\n",
            "      dtype='object')\n",
            "Перші рядки після фільтрації:\n",
            "       N                    Посада Мова програмування Спеціалізація  \\\n",
            "12    13         Software Engineer             Python           NaN   \n",
            "68    69         Software Engineer             Python           NaN   \n",
            "87    88  Junior Software Engineer             Python           NaN   \n",
            "114  115  Junior Software Engineer             Python           NaN   \n",
            "143  144  Junior Software Engineer             Python           NaN   \n",
            "\n",
            "    Загальний досвід роботи Досвід роботи на поточному місці  \\\n",
            "12                        1                  менше 3 місяців   \n",
            "68                      1.5                              0.5   \n",
            "87                      0.5                              0.5   \n",
            "114                     1.5                              0.5   \n",
            "143                       1                                1   \n",
            "\n",
            "     Зарплата на місяць  Зміна зарплати за 12 місяців Місто Розмір компанії  \\\n",
            "12                  800                           200  Київ      до 50 осіб   \n",
            "68                  900                           900  Київ      до 10 осіб   \n",
            "87                  600                             0  Київ      до 10 осіб   \n",
            "114                 685                           250  Київ    до 1000 осіб   \n",
            "143                 750                           250  Київ      до 10 осіб   \n",
            "\n",
            "     ... Ще студент                    Рівень англійської  \\\n",
            "12   ...      False    Pre-intermediate (нище середнього)   \n",
            "68   ...       True  Upper-Intermediate (вище середнього)   \n",
            "87   ...       True  Upper-Intermediate (вище середнього)   \n",
            "114  ...      False               Intermediate (середній)   \n",
            "143  ...       True  Upper-Intermediate (вище середнього)   \n",
            "\n",
            "          Предметна область      Дата заповнення  \\\n",
            "12        Веб-розробка,Інше  12/06/2017 13:05:54   \n",
            "68             Веб-розробка  12/06/2017 13:11:17   \n",
            "87   Веб-розробка,eCommerce  12/06/2017 13:12:25   \n",
            "114                    Інше  12/06/2017 13:14:52   \n",
            "143            Веб-розробка  12/06/2017 13:19:10   \n",
            "\n",
            "                                            User.Agent  exp current_job_exp  \\\n",
            "12   Mozilla/5.0 (Windows NT 6.1; Win64; x64) Apple...  1.0             0.0   \n",
            "68   Mozilla/5.0 (Windows NT 10.0; Win64; x64) Appl...  1.5             0.5   \n",
            "87   Mozilla/5.0 (X11; Linux x86_64) AppleWebKit/53...  0.5             0.5   \n",
            "114  Mozilla/5.0 (X11; Linux x86_64) AppleWebKit/53...  1.5             0.5   \n",
            "143  Mozilla/5.0 (X11; Linux x86_64) AppleWebKit/53...  1.0             1.0   \n",
            "\n",
            "    salary Валюта  cls  \n",
            "12     800    NaN  DEV  \n",
            "68     900    NaN  DEV  \n",
            "87     600    NaN  DEV  \n",
            "114    685    NaN  DEV  \n",
            "143    750    NaN  DEV  \n",
            "\n",
            "[5 rows x 25 columns]\n",
            "Помилка: 'Column not found: Зарплата в місяць'. Перевірте, чи існує стовпець 'Зарплата в місяць' у DataFrame.\n"
          ]
        }
      ]
    },
    {
      "source": [
        "import pandas as pd\n",
        "\n",
        "# ... (rest of the code from ipython-input-67-4db4f4716cbc)\n",
        "\n",
        "# Функція для середньої зарплати\n",
        "def fill_avg_salary(row):\n",
        "    return (row['min'] + row['max']) / 2\n",
        "\n",
        "# Ensure grouped_data is defined before using it\n",
        "try:\n",
        "    grouped_data = python_data.groupby('Посада')['Зарплата на місяць'].agg(['min', 'max'])\n",
        "    # Перегляд результатів групування\n",
        "    print(\"Результати групування:\")\n",
        "    print(grouped_data)\n",
        "\n",
        "    # Now you can safely use grouped_data\n",
        "    grouped_data['avg'] = grouped_data.apply(fill_avg_salary, axis=1)\n",
        "\n",
        "    # Описова статистика\n",
        "    print(grouped_data['avg'].describe())\n",
        "\n",
        "    # Збереження таблиці\n",
        "    grouped_data.to_csv('python_data_summary.csv')\n",
        "\n",
        "except KeyError as e:\n",
        "    print(f\"Помилка: {e}. Перевірте, чи існує стовпець 'Зарплата в місяць' у DataFrame.\")"
      ],
      "cell_type": "code",
      "metadata": {
        "colab": {
          "base_uri": "https://localhost:8080/"
        },
        "id": "M1JilnS1W1lG",
        "outputId": "c015f2fd-0e40-49fc-8eef-04d3a9b5629d"
      },
      "execution_count": null,
      "outputs": [
        {
          "output_type": "stream",
          "name": "stdout",
          "text": [
            "Результати групування:\n",
            "                           min   max\n",
            "Посада                              \n",
            "Junior Software Engineer   100  1250\n",
            "Senior Software Engineer  1300  9200\n",
            "Software Engineer          500  5400\n",
            "System Architect          3000  5000\n",
            "Technical Lead            1425  6200\n",
            "count       5.000000\n",
            "mean     3337.500000\n",
            "std      1700.091909\n",
            "min       675.000000\n",
            "25%      2950.000000\n",
            "50%      3812.500000\n",
            "75%      4000.000000\n",
            "max      5250.000000\n",
            "Name: avg, dtype: float64\n"
          ]
        }
      ]
    },
    {
      "cell_type": "code",
      "source": [
        "grouped_data.to_csv('python_data_summary.csv')"
      ],
      "metadata": {
        "id": "djQrnOaGX_4n"
      },
      "execution_count": null,
      "outputs": []
    },
    {
      "cell_type": "code",
      "source": [
        "pip install kaggle\n"
      ],
      "metadata": {
        "colab": {
          "base_uri": "https://localhost:8080/"
        },
        "id": "IUZK_RUYYHWC",
        "outputId": "f2e6ab30-3867-41cf-c0f3-ec9b0fc9cbd4"
      },
      "execution_count": null,
      "outputs": [
        {
          "output_type": "stream",
          "name": "stdout",
          "text": [
            "Requirement already satisfied: kaggle in /usr/local/lib/python3.10/dist-packages (1.6.14)\n",
            "Requirement already satisfied: six>=1.10 in /usr/local/lib/python3.10/dist-packages (from kaggle) (1.16.0)\n",
            "Requirement already satisfied: certifi>=2023.7.22 in /usr/local/lib/python3.10/dist-packages (from kaggle) (2024.6.2)\n",
            "Requirement already satisfied: python-dateutil in /usr/local/lib/python3.10/dist-packages (from kaggle) (2.8.2)\n",
            "Requirement already satisfied: requests in /usr/local/lib/python3.10/dist-packages (from kaggle) (2.31.0)\n",
            "Requirement already satisfied: tqdm in /usr/local/lib/python3.10/dist-packages (from kaggle) (4.66.4)\n",
            "Requirement already satisfied: python-slugify in /usr/local/lib/python3.10/dist-packages (from kaggle) (8.0.4)\n",
            "Requirement already satisfied: urllib3 in /usr/local/lib/python3.10/dist-packages (from kaggle) (2.0.7)\n",
            "Requirement already satisfied: bleach in /usr/local/lib/python3.10/dist-packages (from kaggle) (6.1.0)\n",
            "Requirement already satisfied: webencodings in /usr/local/lib/python3.10/dist-packages (from bleach->kaggle) (0.5.1)\n",
            "Requirement already satisfied: text-unidecode>=1.3 in /usr/local/lib/python3.10/dist-packages (from python-slugify->kaggle) (1.3)\n",
            "Requirement already satisfied: charset-normalizer<4,>=2 in /usr/local/lib/python3.10/dist-packages (from requests->kaggle) (3.3.2)\n",
            "Requirement already satisfied: idna<4,>=2.5 in /usr/local/lib/python3.10/dist-packages (from requests->kaggle) (3.7)\n"
          ]
        }
      ]
    },
    {
      "cell_type": "code",
      "source": [
        "os.environ['KAGGLE_USERNAME'] = 'andriipylypchuk'"
      ],
      "metadata": {
        "id": "24WGWPBCaB6U"
      },
      "execution_count": null,
      "outputs": []
    },
    {
      "cell_type": "code",
      "source": [
        "os.environ['KAGGLE_KEY'] = 'your_kaggle_key'"
      ],
      "metadata": {
        "id": "opGZ73scaVOs"
      },
      "execution_count": null,
      "outputs": []
    },
    {
      "cell_type": "code",
      "source": [
        "# Завантаження даних із Kaggle\n",
        "!kaggle datasets download -d sootersaalu/amazon-top-50-bestselling-books-2009-2019"
      ],
      "metadata": {
        "colab": {
          "base_uri": "https://localhost:8080/"
        },
        "id": "V1xfJ-cRbR-k",
        "outputId": "da16165a-7f57-4d0b-b68c-77cd2adc3d9d"
      },
      "execution_count": null,
      "outputs": [
        {
          "output_type": "stream",
          "name": "stdout",
          "text": [
            "Dataset URL: https://www.kaggle.com/datasets/sootersaalu/amazon-top-50-bestselling-books-2009-2019\n",
            "License(s): CC0-1.0\n",
            "amazon-top-50-bestselling-books-2009-2019.zip: Skipping, found more recently modified local copy (use --force to force download)\n"
          ]
        }
      ]
    },
    {
      "cell_type": "code",
      "source": [
        "import pandas as pd\n",
        "import os"
      ],
      "metadata": {
        "id": "StYfTHWeuYpe"
      },
      "execution_count": null,
      "outputs": []
    },
    {
      "cell_type": "code",
      "source": [
        "# Завантаження kaggle.json (виконайте це тільки один раз)\n",
        "from google.colab import files\n",
        "files.upload()"
      ],
      "metadata": {
        "colab": {
          "base_uri": "https://localhost:8080/",
          "height": 55
        },
        "id": "Ts5aFCvAudxE",
        "outputId": "7be08c9d-2be9-4114-acb5-9917c5dbdfc4"
      },
      "execution_count": null,
      "outputs": [
        {
          "output_type": "display_data",
          "data": {
            "text/plain": [
              "<IPython.core.display.HTML object>"
            ],
            "text/html": [
              "\n",
              "     <input type=\"file\" id=\"files-4259cc84-22b5-43c6-a847-80c97fdef908\" name=\"files[]\" multiple disabled\n",
              "        style=\"border:none\" />\n",
              "     <output id=\"result-4259cc84-22b5-43c6-a847-80c97fdef908\">\n",
              "      Upload widget is only available when the cell has been executed in the\n",
              "      current browser session. Please rerun this cell to enable.\n",
              "      </output>\n",
              "      <script>// Copyright 2017 Google LLC\n",
              "//\n",
              "// Licensed under the Apache License, Version 2.0 (the \"License\");\n",
              "// you may not use this file except in compliance with the License.\n",
              "// You may obtain a copy of the License at\n",
              "//\n",
              "//      http://www.apache.org/licenses/LICENSE-2.0\n",
              "//\n",
              "// Unless required by applicable law or agreed to in writing, software\n",
              "// distributed under the License is distributed on an \"AS IS\" BASIS,\n",
              "// WITHOUT WARRANTIES OR CONDITIONS OF ANY KIND, either express or implied.\n",
              "// See the License for the specific language governing permissions and\n",
              "// limitations under the License.\n",
              "\n",
              "/**\n",
              " * @fileoverview Helpers for google.colab Python module.\n",
              " */\n",
              "(function(scope) {\n",
              "function span(text, styleAttributes = {}) {\n",
              "  const element = document.createElement('span');\n",
              "  element.textContent = text;\n",
              "  for (const key of Object.keys(styleAttributes)) {\n",
              "    element.style[key] = styleAttributes[key];\n",
              "  }\n",
              "  return element;\n",
              "}\n",
              "\n",
              "// Max number of bytes which will be uploaded at a time.\n",
              "const MAX_PAYLOAD_SIZE = 100 * 1024;\n",
              "\n",
              "function _uploadFiles(inputId, outputId) {\n",
              "  const steps = uploadFilesStep(inputId, outputId);\n",
              "  const outputElement = document.getElementById(outputId);\n",
              "  // Cache steps on the outputElement to make it available for the next call\n",
              "  // to uploadFilesContinue from Python.\n",
              "  outputElement.steps = steps;\n",
              "\n",
              "  return _uploadFilesContinue(outputId);\n",
              "}\n",
              "\n",
              "// This is roughly an async generator (not supported in the browser yet),\n",
              "// where there are multiple asynchronous steps and the Python side is going\n",
              "// to poll for completion of each step.\n",
              "// This uses a Promise to block the python side on completion of each step,\n",
              "// then passes the result of the previous step as the input to the next step.\n",
              "function _uploadFilesContinue(outputId) {\n",
              "  const outputElement = document.getElementById(outputId);\n",
              "  const steps = outputElement.steps;\n",
              "\n",
              "  const next = steps.next(outputElement.lastPromiseValue);\n",
              "  return Promise.resolve(next.value.promise).then((value) => {\n",
              "    // Cache the last promise value to make it available to the next\n",
              "    // step of the generator.\n",
              "    outputElement.lastPromiseValue = value;\n",
              "    return next.value.response;\n",
              "  });\n",
              "}\n",
              "\n",
              "/**\n",
              " * Generator function which is called between each async step of the upload\n",
              " * process.\n",
              " * @param {string} inputId Element ID of the input file picker element.\n",
              " * @param {string} outputId Element ID of the output display.\n",
              " * @return {!Iterable<!Object>} Iterable of next steps.\n",
              " */\n",
              "function* uploadFilesStep(inputId, outputId) {\n",
              "  const inputElement = document.getElementById(inputId);\n",
              "  inputElement.disabled = false;\n",
              "\n",
              "  const outputElement = document.getElementById(outputId);\n",
              "  outputElement.innerHTML = '';\n",
              "\n",
              "  const pickedPromise = new Promise((resolve) => {\n",
              "    inputElement.addEventListener('change', (e) => {\n",
              "      resolve(e.target.files);\n",
              "    });\n",
              "  });\n",
              "\n",
              "  const cancel = document.createElement('button');\n",
              "  inputElement.parentElement.appendChild(cancel);\n",
              "  cancel.textContent = 'Cancel upload';\n",
              "  const cancelPromise = new Promise((resolve) => {\n",
              "    cancel.onclick = () => {\n",
              "      resolve(null);\n",
              "    };\n",
              "  });\n",
              "\n",
              "  // Wait for the user to pick the files.\n",
              "  const files = yield {\n",
              "    promise: Promise.race([pickedPromise, cancelPromise]),\n",
              "    response: {\n",
              "      action: 'starting',\n",
              "    }\n",
              "  };\n",
              "\n",
              "  cancel.remove();\n",
              "\n",
              "  // Disable the input element since further picks are not allowed.\n",
              "  inputElement.disabled = true;\n",
              "\n",
              "  if (!files) {\n",
              "    return {\n",
              "      response: {\n",
              "        action: 'complete',\n",
              "      }\n",
              "    };\n",
              "  }\n",
              "\n",
              "  for (const file of files) {\n",
              "    const li = document.createElement('li');\n",
              "    li.append(span(file.name, {fontWeight: 'bold'}));\n",
              "    li.append(span(\n",
              "        `(${file.type || 'n/a'}) - ${file.size} bytes, ` +\n",
              "        `last modified: ${\n",
              "            file.lastModifiedDate ? file.lastModifiedDate.toLocaleDateString() :\n",
              "                                    'n/a'} - `));\n",
              "    const percent = span('0% done');\n",
              "    li.appendChild(percent);\n",
              "\n",
              "    outputElement.appendChild(li);\n",
              "\n",
              "    const fileDataPromise = new Promise((resolve) => {\n",
              "      const reader = new FileReader();\n",
              "      reader.onload = (e) => {\n",
              "        resolve(e.target.result);\n",
              "      };\n",
              "      reader.readAsArrayBuffer(file);\n",
              "    });\n",
              "    // Wait for the data to be ready.\n",
              "    let fileData = yield {\n",
              "      promise: fileDataPromise,\n",
              "      response: {\n",
              "        action: 'continue',\n",
              "      }\n",
              "    };\n",
              "\n",
              "    // Use a chunked sending to avoid message size limits. See b/62115660.\n",
              "    let position = 0;\n",
              "    do {\n",
              "      const length = Math.min(fileData.byteLength - position, MAX_PAYLOAD_SIZE);\n",
              "      const chunk = new Uint8Array(fileData, position, length);\n",
              "      position += length;\n",
              "\n",
              "      const base64 = btoa(String.fromCharCode.apply(null, chunk));\n",
              "      yield {\n",
              "        response: {\n",
              "          action: 'append',\n",
              "          file: file.name,\n",
              "          data: base64,\n",
              "        },\n",
              "      };\n",
              "\n",
              "      let percentDone = fileData.byteLength === 0 ?\n",
              "          100 :\n",
              "          Math.round((position / fileData.byteLength) * 100);\n",
              "      percent.textContent = `${percentDone}% done`;\n",
              "\n",
              "    } while (position < fileData.byteLength);\n",
              "  }\n",
              "\n",
              "  // All done.\n",
              "  yield {\n",
              "    response: {\n",
              "      action: 'complete',\n",
              "    }\n",
              "  };\n",
              "}\n",
              "\n",
              "scope.google = scope.google || {};\n",
              "scope.google.colab = scope.google.colab || {};\n",
              "scope.google.colab._files = {\n",
              "  _uploadFiles,\n",
              "  _uploadFilesContinue,\n",
              "};\n",
              "})(self);\n",
              "</script> "
            ]
          },
          "metadata": {}
        },
        {
          "output_type": "execute_result",
          "data": {
            "text/plain": [
              "{}"
            ]
          },
          "metadata": {},
          "execution_count": 86
        }
      ]
    },
    {
      "cell_type": "code",
      "source": [
        "# Створення kaggle каталогу\n",
        "!mkdir -p ~/.kaggle"
      ],
      "metadata": {
        "id": "KS5w9ujIutsf"
      },
      "execution_count": null,
      "outputs": []
    },
    {
      "cell_type": "code",
      "source": [
        "# Переміщення kaggle.json до каталогу kaggle\n",
        "!mv kaggle.json ~/.kaggle/"
      ],
      "metadata": {
        "colab": {
          "base_uri": "https://localhost:8080/"
        },
        "id": "Xo97Wk-0u0Og",
        "outputId": "96c716e9-e027-43ce-e046-ea8c0aedf67c"
      },
      "execution_count": null,
      "outputs": [
        {
          "output_type": "stream",
          "name": "stdout",
          "text": [
            "mv: cannot stat 'kaggle.json': No such file or directory\n"
          ]
        }
      ]
    },
    {
      "cell_type": "code",
      "source": [
        "# Зміна дозволів для kaggle.json\n",
        "!chmod 600 ~/.kaggle/kaggle.json"
      ],
      "metadata": {
        "colab": {
          "base_uri": "https://localhost:8080/"
        },
        "id": "Sq_4zWYZu7-z",
        "outputId": "c13e836f-46e5-49fb-d28a-bfea6369b7ed"
      },
      "execution_count": null,
      "outputs": [
        {
          "output_type": "stream",
          "name": "stdout",
          "text": [
            "chmod: cannot access '/root/.kaggle/kaggle.json': No such file or directory\n"
          ]
        }
      ]
    },
    {
      "cell_type": "code",
      "source": [
        "\n",
        "# Завантаження даних із Kaggle (можна пропустити, якщо файл вже є)\n",
        "!kaggle datasets download -d sootersaalu/amazon-top-50-bestselling-books-2009-2019 --force\n"
      ],
      "metadata": {
        "colab": {
          "base_uri": "https://localhost:8080/"
        },
        "id": "d1oreWtcvOS-",
        "outputId": "516539e0-c7e3-43a8-d8f7-5886da895f42"
      },
      "execution_count": null,
      "outputs": [
        {
          "output_type": "stream",
          "name": "stdout",
          "text": [
            "Dataset URL: https://www.kaggle.com/datasets/sootersaalu/amazon-top-50-bestselling-books-2009-2019\n",
            "License(s): CC0-1.0\n",
            "Downloading amazon-top-50-bestselling-books-2009-2019.zip to /content\n",
            "  0% 0.00/14.5k [00:00<?, ?B/s]\n",
            "100% 14.5k/14.5k [00:00<00:00, 13.2MB/s]\n"
          ]
        }
      ]
    },
    {
      "cell_type": "code",
      "source": [
        "\n",
        "# Розпакування завантаженого архіву\n",
        "!unzip -o amazon-top-50-bestselling-books-2009-2019.zip\n"
      ],
      "metadata": {
        "colab": {
          "base_uri": "https://localhost:8080/"
        },
        "id": "effZjuT0vVyE",
        "outputId": "e392cb91-bf1e-4216-928d-d01bce2424fc"
      },
      "execution_count": null,
      "outputs": [
        {
          "output_type": "stream",
          "name": "stdout",
          "text": [
            "Archive:  amazon-top-50-bestselling-books-2009-2019.zip\n",
            "  inflating: bestsellers with categories.csv  \n"
          ]
        }
      ]
    },
    {
      "cell_type": "code",
      "source": [
        "import pandas as pd\n",
        "import matplotlib.pyplot as plt\n",
        "\n",
        "# Завантаження даних у DataFrame\n",
        "df_books = pd.read_csv('bestsellers with categories.csv')\n",
        "\n",
        "# Перегляд перших рядків таблиці\n",
        "print(df_books.head())\n",
        "\n",
        "# Розміри датасету\n",
        "print(\"Розміри датасету:\", df_books.shape)\n",
        "\n",
        "# Відповідь: Про скільки книг зберігає дані датасет?\n",
        "num_books = df_books.shape[0]\n",
        "print(\"Про скільки книг зберігає дані датасет?\", num_books)\n"
      ],
      "metadata": {
        "colab": {
          "base_uri": "https://localhost:8080/"
        },
        "id": "ApHijrV-15mO",
        "outputId": "bd420013-dc3d-4884-f80b-857e200c9e7e"
      },
      "execution_count": 113,
      "outputs": [
        {
          "output_type": "stream",
          "name": "stdout",
          "text": [
            "                                                Name  \\\n",
            "0                      10-Day Green Smoothie Cleanse   \n",
            "1                                  11/22/63: A Novel   \n",
            "2            12 Rules for Life: An Antidote to Chaos   \n",
            "3                             1984 (Signet Classics)   \n",
            "4  5,000 Awesome Facts (About Everything!) (Natio...   \n",
            "\n",
            "                     Author  User Rating  Reviews  Price  Year        Genre  \n",
            "0                  JJ Smith          4.7    17350      8  2016  Non Fiction  \n",
            "1              Stephen King          4.6     2052     22  2011      Fiction  \n",
            "2        Jordan B. Peterson          4.7    18979     15  2018  Non Fiction  \n",
            "3             George Orwell          4.7    21424      6  2017      Fiction  \n",
            "4  National Geographic Kids          4.8     7665     12  2019  Non Fiction  \n",
            "Розміри датасету: (550, 7)\n",
            "Про скільки книг зберігає дані датасет? 550\n"
          ]
        }
      ]
    },
    {
      "cell_type": "code",
      "source": [
        "# Зміна назв колонок\n",
        "df_books.columns = ['name', 'author', 'user_rating', 'reviews', 'price', 'year', 'genre']\n",
        "print(\"Нові назви колонок:\", df_books.columns)\n"
      ],
      "metadata": {
        "colab": {
          "base_uri": "https://localhost:8080/"
        },
        "id": "bURejNzY2eBF",
        "outputId": "b8f3791e-db3f-4ed1-cf31-658e10c6797c"
      },
      "execution_count": 114,
      "outputs": [
        {
          "output_type": "stream",
          "name": "stdout",
          "text": [
            "Нові назви колонок: Index(['name', 'author', 'user_rating', 'reviews', 'price', 'year', 'genre'], dtype='object')\n"
          ]
        }
      ]
    },
    {
      "cell_type": "code",
      "source": [
        "# Перевірка на пропуски\n",
        "missing_values = df_books.isna().sum()\n",
        "print(\"Кількість пропусків у кожній колонці:\\n\", missing_values)\n",
        "\n",
        "# Відповідь: Чи є в якихось змінних пропуски? (Так / ні)\n",
        "if missing_values.sum() == 0:\n",
        "    print(\"Відповідь: Ні\")\n",
        "else:\n",
        "    print(\"Відповідь: Так\")\n",
        "\n",
        "# Унікальні значення в колонці genre\n",
        "unique_genres = df_books['genre'].unique()\n",
        "print(\"Унікальні жанри:\", unique_genres)\n",
        "\n",
        "# Відповідь: Які є унікальні жанри?\n"
      ],
      "metadata": {
        "colab": {
          "base_uri": "https://localhost:8080/"
        },
        "id": "cpPgcNTT2noj",
        "outputId": "df812d1d-e6f2-413f-8ae6-5906c76085fa"
      },
      "execution_count": 115,
      "outputs": [
        {
          "output_type": "stream",
          "name": "stdout",
          "text": [
            "Кількість пропусків у кожній колонці:\n",
            " name           0\n",
            "author         0\n",
            "user_rating    0\n",
            "reviews        0\n",
            "price          0\n",
            "year           0\n",
            "genre          0\n",
            "dtype: int64\n",
            "Відповідь: Ні\n",
            "Унікальні жанри: ['Non Fiction' 'Fiction']\n"
          ]
        }
      ]
    },
    {
      "cell_type": "code",
      "source": [
        "# Гістограма розподілу цін\n",
        "df_books['price'].hist(bins=20)\n",
        "plt.xlabel('Price')\n",
        "plt.ylabel('Frequency')\n",
        "plt.title('Price Distribution')\n",
        "plt.show()\n",
        "\n",
        "# Визначення основних статистичних показників\n",
        "max_price = df_books['price'].max()\n",
        "min_price = df_books['price'].min()\n",
        "mean_price = df_books['price'].mean()\n",
        "median_price = df_books['price'].median()\n",
        "\n",
        "print(\"Максимальна ціна:\", max_price)\n",
        "print(\"Мінімальна ціна:\", min_price)\n",
        "print(\"Середня ціна:\", mean_price)\n",
        "print(\"Медіанна ціна:\", median_price)\n",
        "\n",
        "# Відповідь: Максимальна ціна? Мінімальна ціна? Середня ціна? Медіанна ціна?\n"
      ],
      "metadata": {
        "colab": {
          "base_uri": "https://localhost:8080/",
          "height": 541
        },
        "id": "02pd_gTN2w6p",
        "outputId": "bf8522c9-6758-4395-944e-ac4cb5cf870c"
      },
      "execution_count": 116,
      "outputs": [
        {
          "output_type": "display_data",
          "data": {
            "text/plain": [
              "<Figure size 640x480 with 1 Axes>"
            ],
            "image/png": "[encoded data removed]"
          },
          "metadata": {}
        },
        {
          "output_type": "stream",
          "name": "stdout",
          "text": [
            "Максимальна ціна: 105\n",
            "Мінімальна ціна: 0\n",
            "Середня ціна: 13.1\n",
            "Медіанна ціна: 11.0\n"
          ]
        }
      ]
    },
    {
      "cell_type": "code",
      "source": [
        "# Найвищий рейтинг\n",
        "highest_rating = df_books['user_rating'].max()\n",
        "num_books_highest_rating = df_books[df_books['user_rating'] == highest_rating].shape[0]\n",
        "\n",
        "print(\"Найвищий рейтинг:\", highest_rating)\n",
        "print(\"Кількість книг з найвищим рейтингом:\", num_books_highest_rating)\n",
        "\n",
        "# Відповідь: Який рейтинг у датасеті найвищий? Відповідь:\n",
        "# Відповідь: Скільки книг мають такий рейтинг? Відповідь:\n",
        "\n",
        "# Книга з найбільшою кількістю відгуків\n",
        "most_reviews_book = df_books.loc[df_books['reviews'].idxmax()]\n",
        "print(\"Книга з найбільшою кількістю відгуків:\", most_reviews_book['name'])\n",
        "\n",
        "# Відповідь: Яка книга має найбільше відгуків? Відповідь:\n",
        "\n",
        "# Найдорожча книга у 2015 році\n",
        "most_expensive_2015 = df_books[df_books['year'] == 2015].sort_values(by='price', ascending=False).iloc[0]\n",
        "print(\"Найдорожча книга у 2015 році:\", most_expensive_2015['name'])\n",
        "\n",
        "# Відповідь: З тих книг, що потрапили до Топ-50 у 2015 році, яка книга найдорожча? Відповідь:\n",
        "\n",
        "# Кількість книг жанру Fiction у 2010 році\n",
        "num_fiction_2010 = df_books[(df_books['genre'] == 'Fiction') & (df_books['year'] == 2010)].shape[0]\n",
        "print(\"Кількість книг жанру Fiction у 2010 році:\", num_fiction_2010)\n",
        "\n",
        "# Відповідь: Скільки книг жанру Fiction потрапили до Топ-50 у 2010 році? Відповідь:\n",
        "\n",
        "# Кількість книг з рейтингом 4.9 у 2010 та 2011 роках\n",
        "num_books_49_2010_2011 = df_books[(df_books['user_rating'] == 4.9) & (df_books['year'].isin([2010, 2011]))].shape[0]\n",
        "print(\"Кількість книг з рейтингом 4.9 у 2010 та 2011 роках:\", num_books_49_2010_2011)\n",
        "\n",
        "# Відповідь: Скільки книг з рейтингом 4.9 потрапило до рейтингу у 2010 та 2011 роках? Відповідь:\n",
        "\n",
        "# Сортування за зростанням ціни всіх книг у 2015 році, що коштують дешевше за 8 доларів\n",
        "sorted_books_2015 = df_books[(df_books['year'] == 2015) & (df_books['price'] < 8)].sort_values(by='price')\n",
        "last_book_sorted = sorted_books_2015.iloc[-1]['name']\n",
        "print(\"Остання книга у відсортованому списку:\", last_book_sorted)\n",
        "\n",
        "# Відповідь: Яка книга остання у відсортованому списку? Відповідь:\n"
      ],
      "metadata": {
        "colab": {
          "base_uri": "https://localhost:8080/"
        },
        "id": "M3CSCztd24r5",
        "outputId": "f16456ae-451f-4425-808f-f931827a12a4"
      },
      "execution_count": 117,
      "outputs": [
        {
          "output_type": "stream",
          "name": "stdout",
          "text": [
            "Найвищий рейтинг: 4.9\n",
            "Кількість книг з найвищим рейтингом: 52\n",
            "Книга з найбільшою кількістю відгуків: Where the Crawdads Sing\n",
            "Найдорожча книга у 2015 році: Publication Manual of the American Psychological Association, 6th Edition\n",
            "Кількість книг жанру Fiction у 2010 році: 20\n",
            "Кількість книг з рейтингом 4.9 у 2010 та 2011 роках: 1\n",
            "Остання книга у відсортованому списку: Old School (Diary of a Wimpy Kid #10)\n"
          ]
        }
      ]
    },
    {
      "cell_type": "code",
      "source": [
        "# Максимальна та мінімальна ціна для кожного з жанрів\n",
        "price_stats_by_genre = df_books.groupby('genre')['price'].agg(['max', 'min'])\n",
        "print(price_stats_by_genre)\n",
        "\n",
        "# Відповідь: Максимальна ціна для жанру Fiction? Відповідь:\n",
        "# Відповідь: Мінімальна ціна для жанру Fiction? Відповідь:\n",
        "# Відповідь: Максимальна ціна для жанру Non Fiction? Відповідь:\n",
        "# Відповідь: Мінімальна ціна для жанру Non Fiction? Відповідь:\n",
        "\n",
        "# Кількість книг для кожного з авторів\n",
        "books_by_author = df_books.groupby('author')['name'].count().reset_index().rename(columns={'name': 'book_count'})\n",
        "print(\"Кількість книг для кожного з авторів:\\n\", books_by_author)\n",
        "\n",
        "# Відповідь: Якої розмірності вийшла таблиця? Відповідь:\n",
        "# Відповідь: Який автор має найбільше книг? Відповідь:\n",
        "# Відповідь: Скільки книг цього автора? Відповідь:\n",
        "\n",
        "# Середній рейтинг для кожного автора\n",
        "avg_rating_by_author = df_books.groupby('author')['user_rating'].mean().reset_index().rename(columns={'user_rating': 'avg_rating'})\n",
        "print(\"Середній рейтинг для кожного автора:\\n\", avg_rating_by_author)\n",
        "\n",
        "# Відповідь: У якого автора середній рейтинг мінімальний? Відповідь:\n",
        "# Відповідь: Який у цього автора середній рейтинг? Відповідь:\n",
        "\n",
        "# З'єднання двох DataFrame\n",
        "author_stats = pd.concat([books_by_author.set_index('author'), avg_rating_by_author.set_index('author')], axis=1)\n",
        "\n",
        "# Сортування за зростаючою кількістю книг та зростаючим рейтингом\n",
        "sorted_author_stats = author_stats.sort_values(by=['book_count', 'avg_rating'])\n",
        "\n",
        "print(\"Автори з найменшою кількістю книг та найнижчим рейтингом:\\n\", sorted_author_stats.head())\n",
        "\n",
        "# Відповідь: Який автор перший у списку? Відповідь:\n"
      ],
      "metadata": {
        "colab": {
          "base_uri": "https://localhost:8080/"
        },
        "id": "m1mgY9hL37ln",
        "outputId": "bf2e2aa7-16d0-4d0c-af00-e125dbc2625f"
      },
      "execution_count": 119,
      "outputs": [
        {
          "output_type": "stream",
          "name": "stdout",
          "text": [
            "             max  min\n",
            "genre                \n",
            "Fiction       82    0\n",
            "Non Fiction  105    0\n",
            "Кількість книг для кожного з авторів:\n",
            "                          author  book_count\n",
            "0              Abraham Verghese           2\n",
            "1                Adam Gasiewski           1\n",
            "2                 Adam Mansbach           1\n",
            "3                     Adir Levy           1\n",
            "4    Admiral William H. McRaven           1\n",
            "..                          ...         ...\n",
            "243             Walter Isaacson           3\n",
            "244               William Davis           2\n",
            "245            William P. Young           2\n",
            "246            Wizards RPG Team           3\n",
            "247                Zhi Gang Sha           2\n",
            "\n",
            "[248 rows x 2 columns]\n",
            "Середній рейтинг для кожного автора:\n",
            "                          author  avg_rating\n",
            "0              Abraham Verghese    4.600000\n",
            "1                Adam Gasiewski    4.400000\n",
            "2                 Adam Mansbach    4.800000\n",
            "3                     Adir Levy    4.800000\n",
            "4    Admiral William H. McRaven    4.700000\n",
            "..                          ...         ...\n",
            "243             Walter Isaacson    4.566667\n",
            "244               William Davis    4.400000\n",
            "245            William P. Young    4.600000\n",
            "246            Wizards RPG Team    4.800000\n",
            "247                Zhi Gang Sha    4.600000\n",
            "\n",
            "[248 rows x 2 columns]\n",
            "Автори з найменшою кількістю книг та найнижчим рейтингом:\n",
            "                    book_count  avg_rating\n",
            "author                                   \n",
            "Muriel Barbery              1         4.0\n",
            "Chris Cleave                1         4.1\n",
            "Ian K. Smith M.D.           1         4.1\n",
            "Pierre Dukan                1         4.1\n",
            "Elizabeth Strout            1         4.2\n"
          ]
        }
      ]
    }
  ]
}
